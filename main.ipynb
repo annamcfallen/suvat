{
 "cells": [
  {
   "cell_type": "code",
   "execution_count": 1,
   "id": "8a744853",
   "metadata": {},
   "outputs": [],
   "source": [
    "import numpy as np\n",
    "\n",
    "import SUVAT"
   ]
  },
  {
   "cell_type": "code",
   "execution_count": 2,
   "id": "2633cca5",
   "metadata": {},
   "outputs": [],
   "source": [
    "SUVAT.find_acceleration?"
   ]
  },
  {
   "cell_type": "code",
   "execution_count": null,
   "id": "5b9369e6",
   "metadata": {},
   "outputs": [],
   "source": [
    "displacement = SUVAT.find_displacement(u=4,v=5,a=None,t=4)"
   ]
  },
  {
   "cell_type": "code",
   "execution_count": 9,
   "id": "b78f8b44",
   "metadata": {},
   "outputs": [
    {
     "data": {
      "text/plain": [
       "18.0"
      ]
     },
     "execution_count": 9,
     "metadata": {},
     "output_type": "execute_result"
    }
   ],
   "source": [
    "displacement"
   ]
  },
  {
   "cell_type": "code",
   "execution_count": null,
   "id": "5fd71dc0",
   "metadata": {},
   "outputs": [],
   "source": []
  }
 ],
 "metadata": {
  "kernelspec": {
   "display_name": "Python 3 (ipykernel)",
   "language": "python",
   "name": "python3"
  },
  "language_info": {
   "codemirror_mode": {
    "name": "ipython",
    "version": 3
   },
   "file_extension": ".py",
   "mimetype": "text/x-python",
   "name": "python",
   "nbconvert_exporter": "python",
   "pygments_lexer": "ipython3",
   "version": "3.10.8"
  }
 },
 "nbformat": 4,
 "nbformat_minor": 5
}
